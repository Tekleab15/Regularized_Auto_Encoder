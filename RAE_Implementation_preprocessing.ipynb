{
  "nbformat": 4,
  "nbformat_minor": 0,
  "metadata": {
    "colab": {
      "provenance": [],
      "collapsed_sections": [
        "mY-w9e6uPYk1",
        "woZQS6rUV42N",
        "yQdCeMlejOLj",
        "qYLmEN4D8atl"
      ],
      "authorship_tag": "ABX9TyNMVHUkA9xnE/eJqsleN13N",
      "include_colab_link": true
    },
    "kernelspec": {
      "name": "python3",
      "display_name": "Python 3"
    },
    "language_info": {
      "name": "python"
    }
  },
  "cells": [
    {
      "cell_type": "markdown",
      "metadata": {
        "id": "view-in-github",
        "colab_type": "text"
      },
      "source": [
        "<a href=\"https://colab.research.google.com/github/Tekleab15/Regularized_Auto_Encoder/blob/main/RAE_Implementation_preprocessing.ipynb\" target=\"_parent\"><img src=\"https://colab.research.google.com/assets/colab-badge.svg\" alt=\"Open In Colab\"/></a>"
      ]
    },
    {
      "cell_type": "markdown",
      "source": [
        "# Regularized Autoencoder Implementation\n",
        "This notebook demonstrates the implementation of a Regularized Autoencoder (RAE) using backpropagation, inspired by the methodologies described in \"The Neural Coding Framework for Learning Generative Models\".\n",
        "\n"
      ],
      "metadata": {
        "id": "_oY1vorCOzzk"
      }
    },
    {
      "cell_type": "markdown",
      "source": [
        "## Dataset Loading and Preprocessing:\n",
        "All the four datasets used in the paper (MNIST, KMNIST, FMNIST, CalTech101)"
      ],
      "metadata": {
        "id": "3RX8DF2fPCXn"
      }
    },
    {
      "cell_type": "markdown",
      "source": [
        "# 1.Preprocessing the datasets"
      ],
      "metadata": {
        "id": "mY-w9e6uPYk1"
      }
    },
    {
      "cell_type": "code",
      "source": [
        "import tensorflow as tf\n",
        "import tensorflow_datasets as tfds\n",
        "import numpy as np\n",
        "from tensorflow.keras.datasets import mnist\n",
        "from sklearn.linear_model import LogisticRegression\n",
        "from sklearn.metrics import accuracy_score"
      ],
      "metadata": {
        "id": "um8w7fFSNswq"
      },
      "execution_count": 16,
      "outputs": []
    },
    {
      "cell_type": "code",
      "source": [
        "# Normalize and convert to binary\n",
        "def preprocess_dataset(x_train, x_test):\n",
        "    x_train = x_train.astype('float32') / 255.\n",
        "    x_test = x_test.astype('float32') / 255.\n",
        "    x_train = (x_train > 0.5).astype('float32')\n",
        "    x_test = (x_test > 0.5).astype('float32')\n",
        "\n",
        "    x_train = x_train.reshape((x_train.shape[0], 28, 28))\n",
        "    x_test = x_test.reshape((x_test.shape[0], 28, 28))\n",
        "    return x_train, x_test"
      ],
      "metadata": {
        "id": "kFdBuwEc7kDO"
      },
      "execution_count": 17,
      "outputs": []
    },
    {
      "cell_type": "code",
      "source": [
        "# load mnist dataset as it's splitted into a training and testing sets\n",
        "(x_train_mnist, y_train_mnist), (x_test_mnist, y_test_mnist) = mnist.load_data()\n"
      ],
      "metadata": {
        "id": "_9Q2LccoO8fV"
      },
      "execution_count": 18,
      "outputs": []
    },
    {
      "cell_type": "markdown",
      "source": [
        "# 2. Loading KMNIST dataset"
      ],
      "metadata": {
        "id": "woZQS6rUV42N"
      }
    },
    {
      "cell_type": "code",
      "source": [
        "# Unlike MNIST datasets KMNIST datasets should be loaded in a little bit different way\n",
        "(x_train_kmnist, y_test_kmnist), ds_info = tfds.load(\n",
        "    'kmnist',\n",
        "    split=['train', 'test'],\n",
        "    shuffle_files=True,\n",
        "    as_supervised=True,\n",
        "    with_info=True\n",
        ")\n",
        "def convert_to_numpy(ds):\n",
        "    images, labels = [], []\n",
        "    for img, lbl in tfds.as_numpy(ds):\n",
        "        images.append(img)\n",
        "        labels.append(lbl)\n",
        "    return np.array(images), np.array(labels)\n",
        "\n",
        "# Convert datasets to numpy arrays\n",
        "x_train_kmnist, y_train_kmnist = convert_to_numpy(x_train_kmnist)\n",
        "x_test_kmnist, y_test_kmnist = convert_to_numpy(y_test_kmnist)"
      ],
      "metadata": {
        "id": "hij_H2pWV1hp"
      },
      "execution_count": 19,
      "outputs": []
    },
    {
      "cell_type": "markdown",
      "source": [
        "# 3. Loading FMNIST dataset"
      ],
      "metadata": {
        "id": "yQdCeMlejOLj"
      }
    },
    {
      "cell_type": "code",
      "source": [
        "# Loading the FMNIST dataset\n",
        "(x_train_fmnist, y_test_fmnist), ds_info = tfds.load(\n",
        "    'fashion_mnist',\n",
        "    split=['train', 'test'],\n",
        "    shuffle_files=True,\n",
        "    as_supervised=True,\n",
        "    with_info=True\n",
        ")\n",
        "\n",
        "x_train_fmnist, y_train_fmnist = convert_to_numpy(x_train_fmnist)\n",
        "x_test_fmnist, y_test_fmnist = convert_to_numpy(y_test_fmnist)\n"
      ],
      "metadata": {
        "id": "O_EI_kjzhaIR"
      },
      "execution_count": 20,
      "outputs": []
    },
    {
      "cell_type": "markdown",
      "source": [
        "# Preprocessing for MNIST, KMNIST, FMNIST datasets"
      ],
      "metadata": {
        "id": "qYLmEN4D8atl"
      }
    },
    {
      "cell_type": "code",
      "source": [
        "# Preprocessing the MNIST dataset\n",
        "x_train_mnist, x_test_mnist = preprocess_dataset(x_train_mnist, x_test_mnist)\n",
        "# Preprocessing the KMNIST dataset\n",
        "x_train_kmnist, x_test_kmnist = preprocess_dataset(x_train_kmnist, x_test_kmnist)\n",
        "# Preprocessing the FMNIST dataset\n",
        "x_train_fmnist, x_test_fmnist = preprocess_dataset(x_train_fmnist, x_test_fmnist)\n",
        "\n",
        "print(\"Mnist train shape:\", x_train_mnist.shape)\n",
        "print(\"Mnist test shape:\", x_test_mnist.shape)\n",
        "print(\"Kmnist train shape:\", x_train_kmnist.shape)\n",
        "print(\"Kmnist test shape:\", x_test_kmnist.shape)\n",
        "print(\"Fmnist train shape:\", x_train_fmnist.shape)\n",
        "print(\"Fmnist test shape:\", x_test_fmnist.shape)"
      ],
      "metadata": {
        "colab": {
          "base_uri": "https://localhost:8080/"
        },
        "id": "oBlOj5NZ8id9",
        "outputId": "c7bd85b9-2d6c-494c-8c18-5ec8ac3f2d2c"
      },
      "execution_count": 21,
      "outputs": [
        {
          "output_type": "stream",
          "name": "stdout",
          "text": [
            "Mnist train shape: (60000, 28, 28)\n",
            "Mnist test shape: (10000, 28, 28)\n",
            "Kmnist train shape: (60000, 28, 28)\n",
            "Kmnist test shape: (10000, 28, 28)\n",
            "Fmnist train shape: (60000, 28, 28)\n",
            "Fmnist test shape: (10000, 28, 28)\n"
          ]
        }
      ]
    },
    {
      "cell_type": "markdown",
      "source": [
        "# 4. Loading and Preprocessing CalTech101"
      ],
      "metadata": {
        "id": "nGXdP7Svkqu-"
      }
    },
    {
      "cell_type": "code",
      "source": [
        "# Preprocess images: normalize, resize, and threshold to binary\n",
        "def preprocess_image(image, label, image_size=(16, 16)):\n",
        "    image = tf.image.convert_image_dtype(image, tf.float32)  # Normalize\n",
        "    image = tf.image.resize(image, image_size)  # Resize\n",
        "    image = tf.cast(image > 0.5, tf.float32)  # Threshold to binary\n",
        "    return image, label\n",
        "\n",
        "# Load CalTech101 dataset\n",
        "(ds_train, ds_test), ds_info = tfds.load(\n",
        "    'caltech101',\n",
        "    split=['train', 'test'],\n",
        "    shuffle_files=True,\n",
        "    as_supervised=True,\n",
        "    with_info=True\n",
        ")\n",
        "\n",
        "# Apply preprocessing to the dataset\n",
        "ds_train = ds_train.map(lambda img, lbl: preprocess_image(img, lbl))\n",
        "ds_test = ds_test.map(lambda img, lbl: preprocess_image(img, lbl))\n",
        "\n",
        "# Convert to numpy arrays\n",
        "def convert_to_numpy(ds):\n",
        "    images, labels = [], []\n",
        "    for img, lbl in tfds.as_numpy(ds):\n",
        "        images.append(img)\n",
        "        labels.append(lbl)\n",
        "    return np.array(images), np.array(labels)\n",
        "\n",
        "x_train_caltech, y_train_caltech = convert_to_numpy(ds_train)\n",
        "x_test_caltech, y_test_caltech = convert_to_numpy(ds_test)\n",
        "\n",
        "# Flatten the images for the autoencoder input\n",
        "x_train_caltech = x_train_caltech.reshape((x_train_caltech.shape[0], -1))\n",
        "x_test_caltech = x_test_caltech.reshape((x_test_caltech.shape[0], -1))\n",
        "\n",
        "print(\"CalTech101 train shape:\", x_train_caltech.shape)\n",
        "print(\"CalTech101 test shape:\", x_test_caltech.shape)"
      ],
      "metadata": {
        "colab": {
          "base_uri": "https://localhost:8080/"
        },
        "id": "HQs42e30k6Hy",
        "outputId": "3d99be8c-6380-441b-de4a-41fc6e15de9b"
      },
      "execution_count": 22,
      "outputs": [
        {
          "output_type": "stream",
          "name": "stdout",
          "text": [
            "CalTech101 train shape: (3060, 768)\n",
            "CalTech101 test shape: (6084, 768)\n"
          ]
        }
      ]
    },
    {
      "cell_type": "code",
      "source": [
        "class RegularizedAutoencoder(tf.keras.Model):\n",
        "    def __init__(self, input_shape):\n",
        "        super(RegularizedAutoencoder, self).__init__()\n",
        "        self.encoder = tf.keras.Sequential([\n",
        "            tf.keras.layers.Flatten(input_shape=input_shape),\n",
        "            tf.keras.layers.Dense(256, activation='relu'),\n",
        "            tf.keras.layers.Dense(128, activation='relu'),\n",
        "            tf.keras.layers.Dense(20, activation='relu')\n",
        "        ])\n",
        "        self.decoder = tf.keras.Sequential([\n",
        "            tf.keras.layers.Dense(128, activation='relu', kernel_regularizer=tf.keras.regularizers.l2(1e-5)),\n",
        "            tf.keras.layers.Dense(256, activation='relu', kernel_regularizer=tf.keras.regularizers.l2(1e-5)),\n",
        "            tf.keras.layers.Dense(np.prod(input_shape), activation='sigmoid', kernel_regularizer=tf.keras.regularizers.l2(1e-5)),\n",
        "            tf.keras.layers.Reshape(input_shape)\n",
        "        ])\n",
        "\n",
        "    def call(self, x):\n",
        "        encoded = self.encoder(x)\n",
        "        decoded = self.decoder(encoded)\n",
        "        return decoded\n",
        "\n",
        "# MSE calculation\n",
        "def masked_mse(y_true, y_pred, mask):\n",
        "    return np.mean(((y_true - y_pred) * (1 - mask)) ** 2)"
      ],
      "metadata": {
        "id": "ZknpUkWcMwis"
      },
      "execution_count": 23,
      "outputs": []
    }
  ]
}