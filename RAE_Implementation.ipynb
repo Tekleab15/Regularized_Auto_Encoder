{
  "nbformat": 4,
  "nbformat_minor": 0,
  "metadata": {
    "colab": {
      "provenance": [],
      "authorship_tag": "ABX9TyM8KZFfnuDyQeOklhqoZQ7A",
      "include_colab_link": true
    },
    "kernelspec": {
      "name": "python3",
      "display_name": "Python 3"
    },
    "language_info": {
      "name": "python"
    }
  },
  "cells": [
    {
      "cell_type": "markdown",
      "metadata": {
        "id": "view-in-github",
        "colab_type": "text"
      },
      "source": [
        "<a href=\"https://colab.research.google.com/github/Tekleab15/Regularized_Auto_Encoder/blob/main/RAE_Implementation.ipynb\" target=\"_parent\"><img src=\"https://colab.research.google.com/assets/colab-badge.svg\" alt=\"Open In Colab\"/></a>"
      ]
    },
    {
      "cell_type": "markdown",
      "source": [
        "# Regularized Autoencoder Implementation\n",
        "This notebook demonstrates the implementation of a Regularized Autoencoder (RAE) using backpropagation, inspired by the methodologies described in \"The Neural Coding Framework for Learning Generative Models\".\n",
        "\n"
      ],
      "metadata": {
        "id": "_oY1vorCOzzk"
      }
    },
    {
      "cell_type": "markdown",
      "source": [],
      "metadata": {
        "id": "i7SpjUdCOk1G"
      }
    },
    {
      "cell_type": "markdown",
      "source": [
        "**Dataset Loading and Preprocessing: **all the four datasets used in the paper (MNIST, KMNIST, FMNIST, CalTech101)"
      ],
      "metadata": {
        "id": "3RX8DF2fPCXn"
      }
    },
    {
      "cell_type": "markdown",
      "source": [
        "# 1. Loading and Preprocessing MNIST dataset"
      ],
      "metadata": {
        "id": "mY-w9e6uPYk1"
      }
    },
    {
      "cell_type": "code",
      "source": [
        "# loading mnist dataset from the open online keras datasets\n",
        "from tensorflow.keras.datasets import mnist\n",
        "\n",
        "# load the dataset as it's splitted into a training and testing sets\n",
        "(x_train_mnist, y_train_mnist), (x_test_mnist, y_test_mnist) = mnist.load_data()\n",
        "\n",
        "# Normalizing(setting between 0 and 1) and reshape the datasets loaded\n",
        "x_train_mnist = x_train_mnist.astype('float32') / 255.\n",
        "x_test_mnist = x_test_mnist.astype('float32') / 255.\n",
        "x_train_mnist = x_train_mnist.reshape((x_train_mnist.shape[0], -1))\n",
        "x_test_mnist = x_test_mnist.reshape((x_test_mnist.shape[0], -1))"
      ],
      "metadata": {
        "id": "_9Q2LccoO8fV"
      },
      "execution_count": 26,
      "outputs": []
    },
    {
      "cell_type": "code",
      "source": [
        "# Assuring the dataset is reshaped successfully\n",
        "print(\"The shape of the dataset is \", x_train_mnist.shape)"
      ],
      "metadata": {
        "colab": {
          "base_uri": "https://localhost:8080/"
        },
        "id": "Oksu76-Yhbmx",
        "outputId": "cd35f74b-d9db-4ade-c1aa-e303496a5d4a"
      },
      "execution_count": 28,
      "outputs": [
        {
          "output_type": "stream",
          "name": "stdout",
          "text": [
            "The shape of the dataset is  (60000, 784)\n"
          ]
        }
      ]
    },
    {
      "cell_type": "markdown",
      "source": [
        "# 2. Loading and Preprocessing KMNIST dataset"
      ],
      "metadata": {
        "id": "woZQS6rUV42N"
      }
    },
    {
      "cell_type": "code",
      "source": [
        "# Unlike MNIST datasets KMNIST datasets should be loaded in a little bit different way\n",
        "import tensorflow_datasets as tfds\n",
        "import numpy as np\n",
        "(x_train_kmnist, y_test_kmnist), ds_info = tfds.load(\n",
        "    'kmnist',\n",
        "    split=['train', 'test'],\n",
        "    shuffle_files=True,\n",
        "    as_supervised=True,\n",
        "    with_info=True\n",
        ")\n",
        "def convert_to_numpy(ds):\n",
        "    images, labels = [], []\n",
        "    for img, lbl in tfds.as_numpy(ds):\n",
        "        images.append(img)\n",
        "        labels.append(lbl)\n",
        "    return np.array(images), np.array(labels)\n",
        "\n",
        "# Convert datasets to numpy arrays\n",
        "x_train_kmnist, y_train_kmnist = convert_to_numpy(x_train_kmnist)\n",
        "x_test_kmnist, y_test_kmnist = convert_to_numpy(y_test_kmnist)\n",
        "\n",
        "# Normalize and Reshape the images as we did for MNIST\n",
        "x_train_kmnist = x_train_kmnist.astype('float32') / 255.\n",
        "x_test_kmnist = x_test_kmnist.astype('float32') / 255.\n",
        "\n",
        "x_train_kmnist = x_train_kmnist.reshape((x_train_kmnist.shape[0], 28 * 28))\n",
        "x_test_kmnist = x_test_kmnist.reshape((x_test_kmnist.shape[0], 28 * 28))"
      ],
      "metadata": {
        "id": "hij_H2pWV1hp"
      },
      "execution_count": 30,
      "outputs": []
    },
    {
      "cell_type": "code",
      "source": [
        "# Assuring the dataset is reshaped successfully\n",
        "print(f'KMNIST train shape: {x_train_kmnist.shape}, KMNIST test shape: {x_test_kmnist.shape}')"
      ],
      "metadata": {
        "colab": {
          "base_uri": "https://localhost:8080/"
        },
        "id": "xfA-9SLmYUTG",
        "outputId": "67d86c89-fdd7-45fa-cf93-38370c65d0ee"
      },
      "execution_count": 29,
      "outputs": [
        {
          "output_type": "stream",
          "name": "stdout",
          "text": [
            "KMNIST train shape: (60000, 28, 28, 1), KMNIST test shape: (10000, 28, 28, 1)\n"
          ]
        }
      ]
    },
    {
      "cell_type": "markdown",
      "source": [
        "# 3. Loading and Preprocessing the FMNIST dataset"
      ],
      "metadata": {
        "id": "yQdCeMlejOLj"
      }
    },
    {
      "cell_type": "code",
      "source": [
        "# Loading the FMNIST dataset\n",
        "(x_train_fmnist, y_test_fmnist), ds_info = tfds.load(\n",
        "    'fashion_mnist',\n",
        "    split=['train', 'test'],\n",
        "    shuffle_files=True,\n",
        "    as_supervised=True,\n",
        "    with_info=True\n",
        ")\n",
        "\n",
        "x_train_fmnist, y_train_fmnist = convert_to_numpy(x_train_fmnist)\n",
        "x_test_fmnist, y_test_fmnist = convert_to_numpy(y_test_fmnist)\n",
        "\n",
        "# Normalize and reshape the images\n",
        "x_train_fmnist = x_train_fmnist.astype('float32') / 255.\n",
        "x_test_fmnist = x_test_fmnist.astype('float32') / 255.\n",
        "\n",
        "x_train_fmnist = x_train_fmnist.reshape((x_train_fmnist.shape[0], 28 * 28))\n",
        "x_test_fmnist = x_test_fmnist.reshape((x_test_fmnist.shape[0], 28 * 28))\n",
        "print(\"The dataset size and shape: \", x_train_fmnist.shape)"
      ],
      "metadata": {
        "colab": {
          "base_uri": "https://localhost:8080/"
        },
        "id": "O_EI_kjzhaIR",
        "outputId": "8864ba40-c470-4ab3-8dc6-55dd4d6f3bc1"
      },
      "execution_count": 34,
      "outputs": [
        {
          "output_type": "stream",
          "name": "stdout",
          "text": [
            "The dataset size and shape:  (60000, 784)\n"
          ]
        }
      ]
    },
    {
      "cell_type": "markdown",
      "source": [
        "# 4. Loading and Preprocessing CalTech101"
      ],
      "metadata": {
        "id": "nGXdP7Svkqu-"
      }
    },
    {
      "cell_type": "code",
      "source": [],
      "metadata": {
        "id": "HQs42e30k6Hy"
      },
      "execution_count": null,
      "outputs": []
    }
  ]
}