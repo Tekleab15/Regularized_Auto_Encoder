{
  "nbformat": 4,
  "nbformat_minor": 0,
  "metadata": {
    "colab": {
      "provenance": [],
      "authorship_tag": "ABX9TyNor6KwVX33A8h/ULM0X8it",
      "include_colab_link": true
    },
    "kernelspec": {
      "name": "python3",
      "display_name": "Python 3"
    },
    "language_info": {
      "name": "python"
    }
  },
  "cells": [
    {
      "cell_type": "markdown",
      "metadata": {
        "id": "view-in-github",
        "colab_type": "text"
      },
      "source": [
        "<a href=\"https://colab.research.google.com/github/Tekleab15/Regularized_Auto_Encoder/blob/main/RAE_Implementation.ipynb\" target=\"_parent\"><img src=\"https://colab.research.google.com/assets/colab-badge.svg\" alt=\"Open In Colab\"/></a>"
      ]
    },
    {
      "cell_type": "markdown",
      "source": [
        "# Regularized Autoencoder Implementation\n",
        "This notebook demonstrates the implementation of a Regularized Autoencoder (RAE) using backpropagation, inspired by the methodologies described in \"The Neural Coding Framework for Learning Generative Models\".\n",
        "\n"
      ],
      "metadata": {
        "id": "_oY1vorCOzzk"
      }
    },
    {
      "cell_type": "markdown",
      "source": [],
      "metadata": {
        "id": "i7SpjUdCOk1G"
      }
    },
    {
      "cell_type": "markdown",
      "source": [
        "**Dataset Loading and Preprocessing: **all the four datasets used in the paper (MNIST, KMNIST, FMNIST, CalTech101)"
      ],
      "metadata": {
        "id": "3RX8DF2fPCXn"
      }
    },
    {
      "cell_type": "markdown",
      "source": [
        "# 1.Preprocessing the datasets"
      ],
      "metadata": {
        "id": "mY-w9e6uPYk1"
      }
    },
    {
      "cell_type": "code",
      "source": [
        "# Normalize and convert to binary\n",
        "def preprocess_dataset(x_train, x_test):\n",
        "    x_train = x_train.astype('float32') / 255.\n",
        "    x_test = x_test.astype('float32') / 255.\n",
        "    x_train = (x_train > 0.5).astype('float32')\n",
        "    x_test = (x_test > 0.5).astype('float32')\n",
        "    return x_train, x_test"
      ],
      "metadata": {
        "id": "kFdBuwEc7kDO"
      },
      "execution_count": 46,
      "outputs": []
    },
    {
      "cell_type": "code",
      "source": [
        "# loading mnist dataset from the open online keras datasets\n",
        "from tensorflow.keras.datasets import mnist\n",
        "# load the dataset as it's splitted into a training and testing sets\n",
        "(x_train_mnist, y_train_mnist), (x_test_mnist, y_test_mnist) = mnist.load_data()\n"
      ],
      "metadata": {
        "id": "_9Q2LccoO8fV"
      },
      "execution_count": 48,
      "outputs": []
    },
    {
      "cell_type": "markdown",
      "source": [
        "# 2. Loading KMNIST dataset"
      ],
      "metadata": {
        "id": "woZQS6rUV42N"
      }
    },
    {
      "cell_type": "code",
      "source": [
        "# Unlike MNIST datasets KMNIST datasets should be loaded in a little bit different way\n",
        "import tensorflow_datasets as tfds\n",
        "import numpy as np\n",
        "(x_train_kmnist, y_test_kmnist), ds_info = tfds.load(\n",
        "    'kmnist',\n",
        "    split=['train', 'test'],\n",
        "    shuffle_files=True,\n",
        "    as_supervised=True,\n",
        "    with_info=True\n",
        ")\n",
        "def convert_to_numpy(ds):\n",
        "    images, labels = [], []\n",
        "    for img, lbl in tfds.as_numpy(ds):\n",
        "        images.append(img)\n",
        "        labels.append(lbl)\n",
        "    return np.array(images), np.array(labels)\n",
        "\n",
        "# Convert datasets to numpy arrays\n",
        "x_train_kmnist, y_train_kmnist = convert_to_numpy(x_train_kmnist)\n",
        "x_test_kmnist, y_test_kmnist = convert_to_numpy(y_test_kmnist)\n"
      ],
      "metadata": {
        "id": "hij_H2pWV1hp"
      },
      "execution_count": 56,
      "outputs": []
    },
    {
      "cell_type": "code",
      "source": [
        "# Assuring the dataset is reshaped successfully\n",
        "# print(f'KMNIST train shape: {x_train_kmnist.shape}, KMNIST test shape: {x_test_kmnist.shape}')"
      ],
      "metadata": {
        "id": "xfA-9SLmYUTG"
      },
      "execution_count": 53,
      "outputs": []
    },
    {
      "cell_type": "markdown",
      "source": [
        "# 3. Loading FMNIST dataset"
      ],
      "metadata": {
        "id": "yQdCeMlejOLj"
      }
    },
    {
      "cell_type": "code",
      "source": [
        "# Loading the FMNIST dataset\n",
        "(x_train_fmnist, y_test_fmnist), ds_info = tfds.load(\n",
        "    'fashion_mnist',\n",
        "    split=['train', 'test'],\n",
        "    shuffle_files=True,\n",
        "    as_supervised=True,\n",
        "    with_info=True\n",
        ")\n",
        "\n",
        "x_train_fmnist, y_train_fmnist = convert_to_numpy(x_train_fmnist)\n",
        "x_test_fmnist, y_test_fmnist = convert_to_numpy(y_test_fmnist)\n",
        "\n",
        "# print(\"The dataset size and shape: \", x_train_fmnist.shape)"
      ],
      "metadata": {
        "id": "O_EI_kjzhaIR"
      },
      "execution_count": 58,
      "outputs": []
    },
    {
      "cell_type": "markdown",
      "source": [
        "# Preprocessing for MNIST, KMNIST, FMNIST datasets"
      ],
      "metadata": {
        "id": "qYLmEN4D8atl"
      }
    },
    {
      "cell_type": "code",
      "source": [
        "x_train_mnist, x_test_mnist = preprocess_dataset(x_train_mnist, x_test_mnist)\n",
        "x_train_fmnist, x_test_fmnist = preprocess_dataset(x_train_fmnist, x_test_fmnist)\n",
        "x_train_kmnist, x_test_kmnist = preprocess_dataset(x_train_kmnist, x_test_kmnist)"
      ],
      "metadata": {
        "id": "oBlOj5NZ8id9"
      },
      "execution_count": 59,
      "outputs": []
    },
    {
      "cell_type": "markdown",
      "source": [
        "# 4. Loading and Preprocessing CalTech101"
      ],
      "metadata": {
        "id": "nGXdP7Svkqu-"
      }
    },
    {
      "cell_type": "code",
      "source": [
        "import tensorflow as tf\n",
        "# Resize and threshold images to be binary\n",
        "def resize_and_threshold_images(ds, image_size=(16, 16)):\n",
        "    resized_images, labels = [], []\n",
        "    for img, lbl in tfds.as_numpy(ds):\n",
        "        img_resized = tf.image.resize(img, image_size)\n",
        "        img_binary = (img_resized > 0.5).numpy().astype('float32')\n",
        "        resized_images.append(img_binary)\n",
        "        labels.append(lbl)\n",
        "    return np.array(resized_images), np.array(labels)\n",
        "\n",
        "# Load CalTech 101 Silhouettes dataset\n",
        "(ds_train, ds_test), ds_info = tfds.load(\n",
        "    'caltech101',\n",
        "    split=['train', 'test'],\n",
        "    shuffle_files=True,\n",
        "    as_supervised=True,\n",
        "    with_info=True\n",
        ")\n",
        "\n",
        "def preprocess_image(image, label):\n",
        "    image = tf.image.convert_image_dtype(image, tf.float32)  # Normalize\n",
        "    return image, label\n",
        "\n",
        "ds_train = ds_train.map(preprocess_image)\n",
        "ds_test = ds_test.map(preprocess_image)\n",
        "\n",
        "x_train_caltech, y_train_caltech = resize_and_threshold_images(ds_train)\n",
        "x_test_caltech, y_test_caltech = resize_and_threshold_images(ds_test)\n",
        "print(f'CalTech101 train shape: {x_train_caltech.shape}, CalTech101 test shape: {x_test_caltech.shape}')\n"
      ],
      "metadata": {
        "colab": {
          "base_uri": "https://localhost:8080/"
        },
        "id": "HQs42e30k6Hy",
        "outputId": "909ee0df-da90-410a-8227-fc6bc78f4a69"
      },
      "execution_count": 68,
      "outputs": [
        {
          "output_type": "stream",
          "name": "stdout",
          "text": [
            "CalTech101 train shape: (3060, 16, 16, 3), CalTech101 test shape: (6084, 16, 16, 3)\n"
          ]
        }
      ]
    }
  ]
}