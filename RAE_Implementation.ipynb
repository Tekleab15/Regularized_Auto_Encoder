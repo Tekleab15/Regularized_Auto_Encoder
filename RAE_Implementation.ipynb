{
  "nbformat": 4,
  "nbformat_minor": 0,
  "metadata": {
    "colab": {
      "provenance": [],
      "authorship_tag": "ABX9TyNv8/q+7+lxiaRWrp+bBx0e",
      "include_colab_link": true
    },
    "kernelspec": {
      "name": "python3",
      "display_name": "Python 3"
    },
    "language_info": {
      "name": "python"
    }
  },
  "cells": [
    {
      "cell_type": "markdown",
      "metadata": {
        "id": "view-in-github",
        "colab_type": "text"
      },
      "source": [
        "<a href=\"https://colab.research.google.com/github/Tekleab15/Regularized_Auto_Encoder/blob/main/RAE_Implementation.ipynb\" target=\"_parent\"><img src=\"https://colab.research.google.com/assets/colab-badge.svg\" alt=\"Open In Colab\"/></a>"
      ]
    },
    {
      "cell_type": "markdown",
      "source": [
        "# Regularized Autoencoder Implementation\n",
        "This notebook demonstrates the implementation of a Regularized Autoencoder (RAE) using backpropagation, inspired by the methodologies described in \"The Neural Coding Framework for Learning Generative Models\".\n",
        "\n"
      ],
      "metadata": {
        "id": "_oY1vorCOzzk"
      }
    },
    {
      "cell_type": "markdown",
      "source": [],
      "metadata": {
        "id": "i7SpjUdCOk1G"
      }
    },
    {
      "cell_type": "markdown",
      "source": [
        "**Dataset Loading and Preprocessing: **all the four datasets used in the paper (MNIST, KMNIST, FMNIST, CalTech101)"
      ],
      "metadata": {
        "id": "3RX8DF2fPCXn"
      }
    },
    {
      "cell_type": "markdown",
      "source": [
        "# 1. Loading MNIST dataset\n"
      ],
      "metadata": {
        "id": "mY-w9e6uPYk1"
      }
    },
    {
      "cell_type": "code",
      "source": [
        "# loading mnist dataset from the open online keras datasets\n",
        "from tensorflow.keras.datasets import mnist\n",
        "\n",
        "# load the dataset as it's splitted into a training and testing sets\n",
        "(x_train_mnist, y_train_mnist), (x_test_mnist, y_test_mnist) = mnist.load_data()\n",
        "print(\"Dataset loaded successfully!\")"
      ],
      "metadata": {
        "id": "_9Q2LccoO8fV"
      },
      "execution_count": null,
      "outputs": []
    }
  ]
}