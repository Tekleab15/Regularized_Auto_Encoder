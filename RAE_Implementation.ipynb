{
  "nbformat": 4,
  "nbformat_minor": 0,
  "metadata": {
    "colab": {
      "provenance": [],
      "authorship_tag": "ABX9TyMfl4YQsCnzuNLv8/CfW7Mc",
      "include_colab_link": true
    },
    "kernelspec": {
      "name": "python3",
      "display_name": "Python 3"
    },
    "language_info": {
      "name": "python"
    }
  },
  "cells": [
    {
      "cell_type": "markdown",
      "metadata": {
        "id": "view-in-github",
        "colab_type": "text"
      },
      "source": [
        "<a href=\"https://colab.research.google.com/github/Tekleab15/Regularized_Auto_Encoder/blob/main/RAE_Implementation.ipynb\" target=\"_parent\"><img src=\"https://colab.research.google.com/assets/colab-badge.svg\" alt=\"Open In Colab\"/></a>"
      ]
    },
    {
      "cell_type": "markdown",
      "source": [
        "# Regularized Autoencoder Implementation\n",
        "This notebook demonstrates the implementation of a Regularized Autoencoder (RAE) using backpropagation, inspired by the methodologies described in \"The Neural Coding Framework for Learning Generative Models\".\n",
        "\n"
      ],
      "metadata": {
        "id": "_oY1vorCOzzk"
      }
    },
    {
      "cell_type": "markdown",
      "source": [
        "## Dataset Loading and Preprocessing:\n",
        "All the four datasets used in the paper (MNIST, KMNIST, FMNIST, CalTech101)"
      ],
      "metadata": {
        "id": "3RX8DF2fPCXn"
      }
    },
    {
      "cell_type": "markdown",
      "source": [
        "# 1.Preprocessing the datasets"
      ],
      "metadata": {
        "id": "mY-w9e6uPYk1"
      }
    },
    {
      "cell_type": "code",
      "source": [
        "import tensorflow as tf\n",
        "import tensorflow_datasets as tfds\n",
        "import numpy as np\n",
        "from tensorflow.keras.datasets import mnist\n",
        "from sklearn.linear_model import LogisticRegression\n",
        "from sklearn.metrics import accuracy_score"
      ],
      "metadata": {
        "id": "um8w7fFSNswq"
      },
      "execution_count": 10,
      "outputs": []
    },
    {
      "cell_type": "code",
      "source": [
        "# Normalize and convert to binary\n",
        "def preprocess_dataset(x_train, x_test):\n",
        "    x_train = x_train.astype('float32') / 255.\n",
        "    x_test = x_test.astype('float32') / 255.\n",
        "    x_train = (x_train > 0.5).astype('float32')\n",
        "    x_test = (x_test > 0.5).astype('float32')\n",
        "\n",
        "    x_train = x_train.reshape((x_train.shape[0], 28, 28))\n",
        "    x_test = x_test.reshape((x_test.shape[0], 28, 28))\n",
        "    return x_train, x_test"
      ],
      "metadata": {
        "id": "kFdBuwEc7kDO"
      },
      "execution_count": 11,
      "outputs": []
    },
    {
      "cell_type": "code",
      "source": [
        "# load mnist dataset as it's splitted into a training and testing sets\n",
        "(x_train_mnist, y_train_mnist), (x_test_mnist, y_test_mnist) = mnist.load_data()\n"
      ],
      "metadata": {
        "id": "_9Q2LccoO8fV"
      },
      "execution_count": 12,
      "outputs": []
    },
    {
      "cell_type": "markdown",
      "source": [
        "# 2. Loading KMNIST dataset"
      ],
      "metadata": {
        "id": "woZQS6rUV42N"
      }
    },
    {
      "cell_type": "code",
      "source": [
        "# Unlike MNIST datasets KMNIST datasets should be loaded in a little bit different way\n",
        "(x_train_kmnist, y_test_kmnist), ds_info = tfds.load(\n",
        "    'kmnist',\n",
        "    split=['train', 'test'],\n",
        "    shuffle_files=True,\n",
        "    as_supervised=True,\n",
        "    with_info=True\n",
        ")\n",
        "def convert_to_numpy(ds):\n",
        "    images, labels = [], []\n",
        "    for img, lbl in tfds.as_numpy(ds):\n",
        "        images.append(img)\n",
        "        labels.append(lbl)\n",
        "    return np.array(images), np.array(labels)\n",
        "\n",
        "# Convert datasets to numpy arrays\n",
        "x_train_kmnist, y_train_kmnist = convert_to_numpy(x_train_kmnist)\n",
        "x_test_kmnist, y_test_kmnist = convert_to_numpy(y_test_kmnist)"
      ],
      "metadata": {
        "id": "hij_H2pWV1hp"
      },
      "execution_count": 13,
      "outputs": []
    },
    {
      "cell_type": "markdown",
      "source": [
        "# 3. Loading FMNIST dataset"
      ],
      "metadata": {
        "id": "yQdCeMlejOLj"
      }
    },
    {
      "cell_type": "code",
      "source": [
        "# Loading the FMNIST dataset\n",
        "(x_train_fmnist, y_test_fmnist), ds_info = tfds.load(\n",
        "    'fashion_mnist',\n",
        "    split=['train', 'test'],\n",
        "    shuffle_files=True,\n",
        "    as_supervised=True,\n",
        "    with_info=True\n",
        ")\n",
        "\n",
        "x_train_fmnist, y_train_fmnist = convert_to_numpy(x_train_fmnist)\n",
        "x_test_fmnist, y_test_fmnist = convert_to_numpy(y_test_fmnist)\n"
      ],
      "metadata": {
        "id": "O_EI_kjzhaIR"
      },
      "execution_count": 14,
      "outputs": []
    },
    {
      "cell_type": "markdown",
      "source": [
        "# Preprocessing for MNIST, KMNIST, FMNIST datasets"
      ],
      "metadata": {
        "id": "qYLmEN4D8atl"
      }
    },
    {
      "cell_type": "code",
      "source": [
        "# Preprocessing the MNIST dataset\n",
        "x_train_mnist, x_test_mnist = preprocess_dataset(x_train_mnist, x_test_mnist)\n",
        "# Preprocessing the KMNIST dataset\n",
        "x_train_kmnist, x_test_kmnist = preprocess_dataset(x_train_kmnist, x_test_kmnist)\n",
        "# Preprocessing the FMNIST dataset\n",
        "x_train_fmnist, x_test_fmnist = preprocess_dataset(x_train_fmnist, x_test_fmnist)\n",
        "\n",
        "print(\"Mnist train shape:\", x_train_mnist.shape)\n",
        "print(\"Mnist test shape:\", x_test_mnist.shape)\n",
        "print(\"Kmnist train shape:\", x_train_kmnist.shape)\n",
        "print(\"Kmnist test shape:\", x_test_kmnist.shape)\n",
        "print(\"Fmnist train shape:\", x_train_fmnist.shape)\n",
        "print(\"Fmnist test shape:\", x_test_fmnist.shape)"
      ],
      "metadata": {
        "colab": {
          "base_uri": "https://localhost:8080/"
        },
        "id": "oBlOj5NZ8id9",
        "outputId": "92024222-947b-4c3b-edea-7e1f908a3804"
      },
      "execution_count": 15,
      "outputs": [
        {
          "output_type": "stream",
          "name": "stdout",
          "text": [
            "Mnist train shape: (60000, 28, 28)\n",
            "Mnist test shape: (10000, 28, 28)\n",
            "Kmnist train shape: (60000, 28, 28)\n",
            "Kmnist test shape: (10000, 28, 28)\n",
            "Fmnist train shape: (60000, 28, 28)\n",
            "Fmnist test shape: (10000, 28, 28)\n"
          ]
        }
      ]
    },
    {
      "cell_type": "markdown",
      "source": [
        "# 4. Loading and Preprocessing CalTech101"
      ],
      "metadata": {
        "id": "nGXdP7Svkqu-"
      }
    },
    {
      "cell_type": "code",
      "source": [
        "# Preprocess images: normalize, resize, and threshold to binary\n",
        "def preprocess_image(image, label, image_size=(16, 16)):\n",
        "    image = tf.image.convert_image_dtype(image, tf.float32)  # Normalize\n",
        "    image = tf.image.resize(image, image_size)  # Resize\n",
        "    image = tf.cast(image > 0.5, tf.float32)  # Threshold to binary\n",
        "    return image, label\n",
        "\n",
        "# Load CalTech101 dataset\n",
        "(ds_train, ds_test), ds_info = tfds.load(\n",
        "    'caltech101',\n",
        "    split=['train', 'test'],\n",
        "    shuffle_files=True,\n",
        "    as_supervised=True,\n",
        "    with_info=True\n",
        ")\n",
        "\n",
        "# Apply preprocessing to the dataset\n",
        "ds_train = ds_train.map(lambda img, lbl: preprocess_image(img, lbl))\n",
        "ds_test = ds_test.map(lambda img, lbl: preprocess_image(img, lbl))\n",
        "\n",
        "# Convert to numpy arrays\n",
        "def convert_to_numpy(ds):\n",
        "    images, labels = [], []\n",
        "    for img, lbl in tfds.as_numpy(ds):\n",
        "        images.append(img)\n",
        "        labels.append(lbl)\n",
        "    return np.array(images), np.array(labels)\n",
        "\n",
        "x_train_caltech, y_train_caltech = convert_to_numpy(ds_train)\n",
        "x_test_caltech, y_test_caltech = convert_to_numpy(ds_test)\n",
        "\n",
        "# Flatten the images for the autoencoder input\n",
        "x_train_caltech = x_train_caltech.reshape((x_train_caltech.shape[0], -1))\n",
        "x_test_caltech = x_test_caltech.reshape((x_test_caltech.shape[0], -1))\n",
        "\n",
        "print(\"CalTech101 train shape:\", x_train_caltech.shape)\n",
        "print(\"CalTech101 test shape:\", x_test_caltech.shape)"
      ],
      "metadata": {
        "colab": {
          "base_uri": "https://localhost:8080/"
        },
        "id": "HQs42e30k6Hy",
        "outputId": "b281da83-b4ab-47ea-ebb0-bdd6beea0623"
      },
      "execution_count": 16,
      "outputs": [
        {
          "output_type": "stream",
          "name": "stdout",
          "text": [
            "CalTech101 train shape: (3060, 768)\n",
            "CalTech101 test shape: (6084, 768)\n"
          ]
        }
      ]
    },
    {
      "cell_type": "code",
      "source": [
        "class RegularizedAutoencoder(tf.keras.Model):\n",
        "    def __init__(self, input_shape):\n",
        "        super(RegularizedAutoencoder, self).__init__()\n",
        "        self.encoder = tf.keras.Sequential([\n",
        "            tf.keras.layers.Flatten(input_shape=input_shape),\n",
        "            tf.keras.layers.Dense(256, activation='relu'),\n",
        "            tf.keras.layers.Dense(128, activation='relu'),\n",
        "            tf.keras.layers.Dense(20, activation='relu')\n",
        "        ])\n",
        "        self.decoder = tf.keras.Sequential([\n",
        "            tf.keras.layers.Dense(128, activation='relu', kernel_regularizer=tf.keras.regularizers.l2(1e-5)),\n",
        "            tf.keras.layers.Dense(256, activation='relu', kernel_regularizer=tf.keras.regularizers.l2(1e-5)),\n",
        "            tf.keras.layers.Dense(np.prod(input_shape), activation='sigmoid', kernel_regularizer=tf.keras.regularizers.l2(1e-5)),\n",
        "            tf.keras.layers.Reshape(input_shape)\n",
        "        ])\n",
        "\n",
        "    def call(self, x):\n",
        "        encoded = self.encoder(x)\n",
        "        decoded = self.decoder(encoded)\n",
        "        return decoded\n",
        "\n",
        "# MSE calculation\n",
        "def masked_mse(y_true, y_pred, mask):\n",
        "    return np.mean(((y_true - y_pred) * (1 - mask)) ** 2)"
      ],
      "metadata": {
        "id": "ZknpUkWcMwis"
      },
      "execution_count": 17,
      "outputs": []
    },
    {
      "cell_type": "markdown",
      "source": [
        "# MNIST training"
      ],
      "metadata": {
        "id": "SxjF9hZsO6Rk"
      }
    },
    {
      "cell_type": "code",
      "source": [
        "# Instantiate and compile the model\n",
        "mnist_input_shape = x_train_mnist.shape[1:]\n",
        "mnist_autoencoder = RegularizedAutoencoder(mnist_input_shape)\n",
        "mnist_autoencoder.compile(optimizer='adam', loss='binary_crossentropy')\n",
        "\n",
        "# Train the model\n",
        "history = mnist_autoencoder.fit(x_train_mnist, x_train_mnist, epochs=50, batch_size=200, validation_data=(x_test_mnist, x_test_mnist))\n",
        "\n",
        "# Evaluate the model\n",
        "mnist_bce = mnist_autoencoder.evaluate(x_test_mnist, x_test_mnist)\n",
        "print(f'MNIST Binary Cross-Entropy (BCE): {mnist_bce}')\n",
        "\n",
        "# Create a mask and calculate M-MSE\n",
        "MNIST_mask = np.random.choice([0, 1], size=x_test_mnist.shape, p=[0.5, 0.5])\n",
        "MNIST_mse = masked_mse(x_test_mnist, mnist_autoencoder.predict(x_test_mnist), MNIST_mask)\n",
        "print(f'MNIST Masked Mean Squared Error (M-MSE): {MNIST_mse}')\n"
      ],
      "metadata": {
        "colab": {
          "base_uri": "https://localhost:8080/"
        },
        "id": "PBaUyEV8KiA6",
        "outputId": "89345b7d-65ca-4170-9dbc-4139559b713e"
      },
      "execution_count": 18,
      "outputs": [
        {
          "output_type": "stream",
          "name": "stderr",
          "text": [
            "/usr/local/lib/python3.11/dist-packages/keras/src/layers/reshaping/flatten.py:37: UserWarning: Do not pass an `input_shape`/`input_dim` argument to a layer. When using Sequential models, prefer using an `Input(shape)` object as the first layer in the model instead.\n",
            "  super().__init__(**kwargs)\n"
          ]
        },
        {
          "output_type": "stream",
          "name": "stdout",
          "text": [
            "Epoch 1/50\n",
            "\u001b[1m300/300\u001b[0m \u001b[32m━━━━━━━━━━━━━━━━━━━━\u001b[0m\u001b[37m\u001b[0m \u001b[1m11s\u001b[0m 28ms/step - loss: 0.2922 - val_loss: 0.1360\n",
            "Epoch 2/50\n",
            "\u001b[1m300/300\u001b[0m \u001b[32m━━━━━━━━━━━━━━━━━━━━\u001b[0m\u001b[37m\u001b[0m \u001b[1m11s\u001b[0m 37ms/step - loss: 0.1292 - val_loss: 0.1107\n",
            "Epoch 3/50\n",
            "\u001b[1m300/300\u001b[0m \u001b[32m━━━━━━━━━━━━━━━━━━━━\u001b[0m\u001b[37m\u001b[0m \u001b[1m17s\u001b[0m 27ms/step - loss: 0.1097 - val_loss: 0.1007\n",
            "Epoch 4/50\n",
            "\u001b[1m300/300\u001b[0m \u001b[32m━━━━━━━━━━━━━━━━━━━━\u001b[0m\u001b[37m\u001b[0m \u001b[1m10s\u001b[0m 27ms/step - loss: 0.1008 - val_loss: 0.0934\n",
            "Epoch 5/50\n",
            "\u001b[1m300/300\u001b[0m \u001b[32m━━━━━━━━━━━━━━━━━━━━\u001b[0m\u001b[37m\u001b[0m \u001b[1m7s\u001b[0m 22ms/step - loss: 0.0934 - val_loss: 0.0880\n",
            "Epoch 6/50\n",
            "\u001b[1m300/300\u001b[0m \u001b[32m━━━━━━━━━━━━━━━━━━━━\u001b[0m\u001b[37m\u001b[0m \u001b[1m10s\u001b[0m 22ms/step - loss: 0.0881 - val_loss: 0.0843\n",
            "Epoch 7/50\n",
            "\u001b[1m300/300\u001b[0m \u001b[32m━━━━━━━━━━━━━━━━━━━━\u001b[0m\u001b[37m\u001b[0m \u001b[1m11s\u001b[0m 27ms/step - loss: 0.0842 - val_loss: 0.0806\n",
            "Epoch 8/50\n",
            "\u001b[1m300/300\u001b[0m \u001b[32m━━━━━━━━━━━━━━━━━━━━\u001b[0m\u001b[37m\u001b[0m \u001b[1m10s\u001b[0m 26ms/step - loss: 0.0803 - val_loss: 0.0775\n",
            "Epoch 9/50\n",
            "\u001b[1m300/300\u001b[0m \u001b[32m━━━━━━━━━━━━━━━━━━━━\u001b[0m\u001b[37m\u001b[0m \u001b[1m9s\u001b[0m 21ms/step - loss: 0.0775 - val_loss: 0.0756\n",
            "Epoch 10/50\n",
            "\u001b[1m300/300\u001b[0m \u001b[32m━━━━━━━━━━━━━━━━━━━━\u001b[0m\u001b[37m\u001b[0m \u001b[1m10s\u001b[0m 21ms/step - loss: 0.0753 - val_loss: 0.0730\n",
            "Epoch 11/50\n",
            "\u001b[1m300/300\u001b[0m \u001b[32m━━━━━━━━━━━━━━━━━━━━\u001b[0m\u001b[37m\u001b[0m \u001b[1m11s\u001b[0m 22ms/step - loss: 0.0728 - val_loss: 0.0714\n",
            "Epoch 12/50\n",
            "\u001b[1m300/300\u001b[0m \u001b[32m━━━━━━━━━━━━━━━━━━━━\u001b[0m\u001b[37m\u001b[0m \u001b[1m11s\u001b[0m 24ms/step - loss: 0.0715 - val_loss: 0.0699\n",
            "Epoch 13/50\n",
            "\u001b[1m300/300\u001b[0m \u001b[32m━━━━━━━━━━━━━━━━━━━━\u001b[0m\u001b[37m\u001b[0m \u001b[1m11s\u001b[0m 26ms/step - loss: 0.0696 - val_loss: 0.0689\n",
            "Epoch 14/50\n",
            "\u001b[1m300/300\u001b[0m \u001b[32m━━━━━━━━━━━━━━━━━━━━\u001b[0m\u001b[37m\u001b[0m \u001b[1m7s\u001b[0m 22ms/step - loss: 0.0688 - val_loss: 0.0680\n",
            "Epoch 15/50\n",
            "\u001b[1m300/300\u001b[0m \u001b[32m━━━━━━━━━━━━━━━━━━━━\u001b[0m\u001b[37m\u001b[0m \u001b[1m10s\u001b[0m 21ms/step - loss: 0.0676 - val_loss: 0.0676\n",
            "Epoch 16/50\n",
            "\u001b[1m300/300\u001b[0m \u001b[32m━━━━━━━━━━━━━━━━━━━━\u001b[0m\u001b[37m\u001b[0m \u001b[1m11s\u001b[0m 23ms/step - loss: 0.0667 - val_loss: 0.0667\n",
            "Epoch 17/50\n",
            "\u001b[1m300/300\u001b[0m \u001b[32m━━━━━━━━━━━━━━━━━━━━\u001b[0m\u001b[37m\u001b[0m \u001b[1m11s\u001b[0m 26ms/step - loss: 0.0658 - val_loss: 0.0658\n",
            "Epoch 18/50\n",
            "\u001b[1m300/300\u001b[0m \u001b[32m━━━━━━━━━━━━━━━━━━━━\u001b[0m\u001b[37m\u001b[0m \u001b[1m7s\u001b[0m 23ms/step - loss: 0.0650 - val_loss: 0.0654\n",
            "Epoch 19/50\n",
            "\u001b[1m300/300\u001b[0m \u001b[32m━━━━━━━━━━━━━━━━━━━━\u001b[0m\u001b[37m\u001b[0m \u001b[1m7s\u001b[0m 25ms/step - loss: 0.0646 - val_loss: 0.0650\n",
            "Epoch 20/50\n",
            "\u001b[1m300/300\u001b[0m \u001b[32m━━━━━━━━━━━━━━━━━━━━\u001b[0m\u001b[37m\u001b[0m \u001b[1m8s\u001b[0m 27ms/step - loss: 0.0641 - val_loss: 0.0645\n",
            "Epoch 21/50\n",
            "\u001b[1m300/300\u001b[0m \u001b[32m━━━━━━━━━━━━━━━━━━━━\u001b[0m\u001b[37m\u001b[0m \u001b[1m6s\u001b[0m 21ms/step - loss: 0.0636 - val_loss: 0.0640\n",
            "Epoch 22/50\n",
            "\u001b[1m300/300\u001b[0m \u001b[32m━━━━━━━━━━━━━━━━━━━━\u001b[0m\u001b[37m\u001b[0m \u001b[1m11s\u001b[0m 25ms/step - loss: 0.0632 - val_loss: 0.0638\n",
            "Epoch 23/50\n",
            "\u001b[1m300/300\u001b[0m \u001b[32m━━━━━━━━━━━━━━━━━━━━\u001b[0m\u001b[37m\u001b[0m \u001b[1m8s\u001b[0m 27ms/step - loss: 0.0630 - val_loss: 0.0637\n",
            "Epoch 24/50\n",
            "\u001b[1m300/300\u001b[0m \u001b[32m━━━━━━━━━━━━━━━━━━━━\u001b[0m\u001b[37m\u001b[0m \u001b[1m9s\u001b[0m 22ms/step - loss: 0.0623 - val_loss: 0.0633\n",
            "Epoch 25/50\n",
            "\u001b[1m300/300\u001b[0m \u001b[32m━━━━━━━━━━━━━━━━━━━━\u001b[0m\u001b[37m\u001b[0m \u001b[1m8s\u001b[0m 26ms/step - loss: 0.0618 - val_loss: 0.0633\n",
            "Epoch 26/50\n",
            "\u001b[1m300/300\u001b[0m \u001b[32m━━━━━━━━━━━━━━━━━━━━\u001b[0m\u001b[37m\u001b[0m \u001b[1m10s\u001b[0m 26ms/step - loss: 0.0614 - val_loss: 0.0629\n",
            "Epoch 27/50\n",
            "\u001b[1m300/300\u001b[0m \u001b[32m━━━━━━━━━━━━━━━━━━━━\u001b[0m\u001b[37m\u001b[0m \u001b[1m9s\u001b[0m 22ms/step - loss: 0.0613 - val_loss: 0.0624\n",
            "Epoch 28/50\n",
            "\u001b[1m300/300\u001b[0m \u001b[32m━━━━━━━━━━━━━━━━━━━━\u001b[0m\u001b[37m\u001b[0m \u001b[1m8s\u001b[0m 26ms/step - loss: 0.0609 - val_loss: 0.0625\n",
            "Epoch 29/50\n",
            "\u001b[1m300/300\u001b[0m \u001b[32m━━━━━━━━━━━━━━━━━━━━\u001b[0m\u001b[37m\u001b[0m \u001b[1m7s\u001b[0m 25ms/step - loss: 0.0609 - val_loss: 0.0620\n",
            "Epoch 30/50\n",
            "\u001b[1m300/300\u001b[0m \u001b[32m━━━━━━━━━━━━━━━━━━━━\u001b[0m\u001b[37m\u001b[0m \u001b[1m7s\u001b[0m 23ms/step - loss: 0.0607 - val_loss: 0.0623\n",
            "Epoch 31/50\n",
            "\u001b[1m300/300\u001b[0m \u001b[32m━━━━━━━━━━━━━━━━━━━━\u001b[0m\u001b[37m\u001b[0m \u001b[1m8s\u001b[0m 27ms/step - loss: 0.0604 - val_loss: 0.0617\n",
            "Epoch 32/50\n",
            "\u001b[1m300/300\u001b[0m \u001b[32m━━━━━━━━━━━━━━━━━━━━\u001b[0m\u001b[37m\u001b[0m \u001b[1m9s\u001b[0m 22ms/step - loss: 0.0601 - val_loss: 0.0617\n",
            "Epoch 33/50\n",
            "\u001b[1m300/300\u001b[0m \u001b[32m━━━━━━━━━━━━━━━━━━━━\u001b[0m\u001b[37m\u001b[0m \u001b[1m10s\u001b[0m 22ms/step - loss: 0.0597 - val_loss: 0.0616\n",
            "Epoch 34/50\n",
            "\u001b[1m300/300\u001b[0m \u001b[32m━━━━━━━━━━━━━━━━━━━━\u001b[0m\u001b[37m\u001b[0m \u001b[1m10s\u001b[0m 22ms/step - loss: 0.0598 - val_loss: 0.0614\n",
            "Epoch 35/50\n",
            "\u001b[1m300/300\u001b[0m \u001b[32m━━━━━━━━━━━━━━━━━━━━\u001b[0m\u001b[37m\u001b[0m \u001b[1m11s\u001b[0m 26ms/step - loss: 0.0595 - val_loss: 0.0614\n",
            "Epoch 36/50\n",
            "\u001b[1m300/300\u001b[0m \u001b[32m━━━━━━━━━━━━━━━━━━━━\u001b[0m\u001b[37m\u001b[0m \u001b[1m8s\u001b[0m 26ms/step - loss: 0.0590 - val_loss: 0.0611\n",
            "Epoch 37/50\n",
            "\u001b[1m300/300\u001b[0m \u001b[32m━━━━━━━━━━━━━━━━━━━━\u001b[0m\u001b[37m\u001b[0m \u001b[1m7s\u001b[0m 22ms/step - loss: 0.0592 - val_loss: 0.0610\n",
            "Epoch 38/50\n",
            "\u001b[1m300/300\u001b[0m \u001b[32m━━━━━━━━━━━━━━━━━━━━\u001b[0m\u001b[37m\u001b[0m \u001b[1m8s\u001b[0m 27ms/step - loss: 0.0589 - val_loss: 0.0614\n",
            "Epoch 39/50\n",
            "\u001b[1m300/300\u001b[0m \u001b[32m━━━━━━━━━━━━━━━━━━━━\u001b[0m\u001b[37m\u001b[0m \u001b[1m7s\u001b[0m 22ms/step - loss: 0.0587 - val_loss: 0.0605\n",
            "Epoch 40/50\n",
            "\u001b[1m300/300\u001b[0m \u001b[32m━━━━━━━━━━━━━━━━━━━━\u001b[0m\u001b[37m\u001b[0m \u001b[1m8s\u001b[0m 26ms/step - loss: 0.0586 - val_loss: 0.0603\n",
            "Epoch 41/50\n",
            "\u001b[1m300/300\u001b[0m \u001b[32m━━━━━━━━━━━━━━━━━━━━\u001b[0m\u001b[37m\u001b[0m \u001b[1m10s\u001b[0m 26ms/step - loss: 0.0584 - val_loss: 0.0603\n",
            "Epoch 42/50\n",
            "\u001b[1m300/300\u001b[0m \u001b[32m━━━━━━━━━━━━━━━━━━━━\u001b[0m\u001b[37m\u001b[0m \u001b[1m9s\u001b[0m 22ms/step - loss: 0.0583 - val_loss: 0.0602\n",
            "Epoch 43/50\n",
            "\u001b[1m300/300\u001b[0m \u001b[32m━━━━━━━━━━━━━━━━━━━━\u001b[0m\u001b[37m\u001b[0m \u001b[1m8s\u001b[0m 26ms/step - loss: 0.0581 - val_loss: 0.0601\n",
            "Epoch 44/50\n",
            "\u001b[1m300/300\u001b[0m \u001b[32m━━━━━━━━━━━━━━━━━━━━\u001b[0m\u001b[37m\u001b[0m \u001b[1m6s\u001b[0m 21ms/step - loss: 0.0580 - val_loss: 0.0600\n",
            "Epoch 45/50\n",
            "\u001b[1m300/300\u001b[0m \u001b[32m━━━━━━━━━━━━━━━━━━━━\u001b[0m\u001b[37m\u001b[0m \u001b[1m10s\u001b[0m 22ms/step - loss: 0.0579 - val_loss: 0.0597\n",
            "Epoch 46/50\n",
            "\u001b[1m300/300\u001b[0m \u001b[32m━━━━━━━━━━━━━━━━━━━━\u001b[0m\u001b[37m\u001b[0m \u001b[1m10s\u001b[0m 21ms/step - loss: 0.0577 - val_loss: 0.0597\n",
            "Epoch 47/50\n",
            "\u001b[1m300/300\u001b[0m \u001b[32m━━━━━━━━━━━━━━━━━━━━\u001b[0m\u001b[37m\u001b[0m \u001b[1m11s\u001b[0m 24ms/step - loss: 0.0576 - val_loss: 0.0594\n",
            "Epoch 48/50\n",
            "\u001b[1m300/300\u001b[0m \u001b[32m━━━━━━━━━━━━━━━━━━━━\u001b[0m\u001b[37m\u001b[0m \u001b[1m11s\u001b[0m 26ms/step - loss: 0.0574 - val_loss: 0.0595\n",
            "Epoch 49/50\n",
            "\u001b[1m300/300\u001b[0m \u001b[32m━━━━━━━━━━━━━━━━━━━━\u001b[0m\u001b[37m\u001b[0m \u001b[1m10s\u001b[0m 24ms/step - loss: 0.0570 - val_loss: 0.0598\n",
            "Epoch 50/50\n",
            "\u001b[1m300/300\u001b[0m \u001b[32m━━━━━━━━━━━━━━━━━━━━\u001b[0m\u001b[37m\u001b[0m \u001b[1m7s\u001b[0m 24ms/step - loss: 0.0572 - val_loss: 0.0599\n",
            "\u001b[1m313/313\u001b[0m \u001b[32m━━━━━━━━━━━━━━━━━━━━\u001b[0m\u001b[37m\u001b[0m \u001b[1m2s\u001b[0m 5ms/step - loss: 0.0607\n",
            "MNIST Binary Cross-Entropy (BCE): 0.05987057462334633\n",
            "\u001b[1m313/313\u001b[0m \u001b[32m━━━━━━━━━━━━━━━━━━━━\u001b[0m\u001b[37m\u001b[0m \u001b[1m1s\u001b[0m 4ms/step\n",
            "MNIST Masked Mean Squared Error (M-MSE): 0.00833801976949922\n"
          ]
        }
      ]
    },
    {
      "cell_type": "code",
      "source": [
        "# Get the latent representations from the encoder\n",
        "mnist_latent_train = mnist_autoencoder.encoder.predict(x_train_mnist)\n",
        "mnist_latent_test = mnist_autoencoder.encoder.predict(x_test_mnist)\n",
        "\n",
        "# Train a logistic regression classifier\n",
        "classifier = LogisticRegression(max_iter=500)\n",
        "classifier.fit(mnist_latent_train, y_train_mnist)\n",
        "\n",
        "# Predict on the test set\n",
        "y_pred = classifier.predict(mnist_latent_test)\n",
        "\n",
        "# Calculate classification error\n",
        "classification_error = 1 - accuracy_score(y_test_mnist, y_pred)\n",
        "print(f'MNIST Classification Error: {classification_error}')"
      ],
      "metadata": {
        "colab": {
          "base_uri": "https://localhost:8080/"
        },
        "id": "hN22E5jKWzWZ",
        "outputId": "83a945b1-4f3c-48bd-cdf8-7d969dece8e2"
      },
      "execution_count": 19,
      "outputs": [
        {
          "output_type": "stream",
          "name": "stdout",
          "text": [
            "\u001b[1m1875/1875\u001b[0m \u001b[32m━━━━━━━━━━━━━━━━━━━━\u001b[0m\u001b[37m\u001b[0m \u001b[1m7s\u001b[0m 3ms/step\n",
            "\u001b[1m313/313\u001b[0m \u001b[32m━━━━━━━━━━━━━━━━━━━━\u001b[0m\u001b[37m\u001b[0m \u001b[1m1s\u001b[0m 2ms/step\n",
            "MNIST Classification Error: 0.10119999999999996\n"
          ]
        },
        {
          "output_type": "stream",
          "name": "stderr",
          "text": [
            "/usr/local/lib/python3.11/dist-packages/sklearn/linear_model/_logistic.py:465: ConvergenceWarning: lbfgs failed to converge (status=1):\n",
            "STOP: TOTAL NO. of ITERATIONS REACHED LIMIT.\n",
            "\n",
            "Increase the number of iterations (max_iter) or scale the data as shown in:\n",
            "    https://scikit-learn.org/stable/modules/preprocessing.html\n",
            "Please also refer to the documentation for alternative solver options:\n",
            "    https://scikit-learn.org/stable/modules/linear_model.html#logistic-regression\n",
            "  n_iter_i = _check_optimize_result(\n"
          ]
        }
      ]
    }
  ]
}